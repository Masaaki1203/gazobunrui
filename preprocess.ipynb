{
  "nbformat": 4,
  "nbformat_minor": 0,
  "metadata": {
    "colab": {
      "name": "preprocess.ipynb",
      "provenance": [],
      "mount_file_id": "166p2ttcPYqhyF2wpQ1HW-JDOg9eMnW-H",
      "authorship_tag": "ABX9TyPUR87p3J2RWmV7nAhZdxzz",
      "include_colab_link": true
    },
    "kernelspec": {
      "name": "python3",
      "display_name": "Python 3"
    }
  },
  "cells": [
    {
      "cell_type": "markdown",
      "metadata": {
        "id": "view-in-github",
        "colab_type": "text"
      },
      "source": [
        "<a href=\"https://colab.research.google.com/github/Masaaki1203/gazobunrui/blob/master/preprocess.ipynb\" target=\"_parent\"><img src=\"https://colab.research.google.com/assets/colab-badge.svg\" alt=\"Open In Colab\"/></a>"
      ]
    },
    {
      "cell_type": "markdown",
      "metadata": {
        "id": "Ta48iUYyfwi2",
        "colab_type": "text"
      },
      "source": [
        "**画像を読み込み前処理の実施**  \n",
        "事前に作成したモジュール (ic_module.py) を用いて画像の読み込みと前処理を行う．"
      ]
    },
    {
      "cell_type": "code",
      "metadata": {
        "id": "O9r7iS6UHgsS",
        "colab_type": "code",
        "colab": {}
      },
      "source": [
        "import sys\n",
        "sys.path.append(\"/content/drive/My Drive/gazobunrui_lecture/my_modules\")"
      ],
      "execution_count": 1,
      "outputs": []
    },
    {
      "cell_type": "code",
      "metadata": {
        "id": "BNOT0nEDXrJ-",
        "colab_type": "code",
        "colab": {
          "base_uri": "https://localhost:8080/",
          "height": 125
        },
        "outputId": "7d612181-48ad-4653-8084-0f7ab642cf28"
      },
      "source": [
        "import ic_module as ic\n",
        "import os.path as op\n",
        "\n",
        "i = 0\n",
        "for filename in ic.FileNames :\n",
        "    # ディレクトリ名入力\n",
        "    while True :\n",
        "        dirname = input(\">>「\" + ic.ClassNames[i] + \"」の画像のあるディレクトリ ： \")\n",
        "        if op.isdir(dirname) :\n",
        "            break\n",
        "        print(\">> そのディレクトリは存在しません！\")\n",
        "\n",
        "    # 関数実行\n",
        "    ic.PreProcess(dirname, filename, var_amount=3)\n",
        "    i += 1"
      ],
      "execution_count": 2,
      "outputs": [
        {
          "output_type": "stream",
          "text": [
            ">>「AinosykeKataoka」の画像のあるディレクトリ ： /content/drive/My Drive/gazobunrui_lecture/face/AinosukeKataoka\n",
            ">> /content/drive/My Drive/gazobunrui_lecture/face/AinosukeKataokaから36個のファイル読み込み成功\n",
            ">>「EnnosukeIchikawa」の画像のあるディレクトリ ： /content/drive/My Drive/gazobunrui_lecture/face/EnnosukeIchikawa\n",
            ">> /content/drive/My Drive/gazobunrui_lecture/face/EnnosukeIchikawaから32個のファイル読み込み成功\n",
            ">>「TeruyukiKagawa」の画像のあるディレクトリ ： /content/drive/My Drive/gazobunrui_lecture/face/TeruyukiKagawa\n",
            ">> /content/drive/My Drive/gazobunrui_lecture/face/TeruyukiKagawaから48個のファイル読み込み成功\n"
          ],
          "name": "stdout"
        }
      ]
    },
    {
      "cell_type": "code",
      "metadata": {
        "id": "Aedzwq_KYne4",
        "colab_type": "code",
        "colab": {}
      },
      "source": [
        ""
      ],
      "execution_count": null,
      "outputs": []
    }
  ]
}