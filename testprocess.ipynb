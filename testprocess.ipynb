{
  "nbformat": 4,
  "nbformat_minor": 0,
  "metadata": {
    "colab": {
      "name": "testprocess.ipynb",
      "provenance": [],
      "mount_file_id": "1x5043aufHe1CxhTByiEhyc8iSYpYowxI",
      "authorship_tag": "ABX9TyOGnXeE08SRC1R/3a6V1U1f",
      "include_colab_link": true
    },
    "kernelspec": {
      "name": "python3",
      "display_name": "Python 3"
    }
  },
  "cells": [
    {
      "cell_type": "markdown",
      "metadata": {
        "id": "view-in-github",
        "colab_type": "text"
      },
      "source": [
        "<a href=\"https://colab.research.google.com/github/Masaaki1203/gazobunrui/blob/master/testprocess.ipynb\" target=\"_parent\"><img src=\"https://colab.research.google.com/assets/colab-badge.svg\" alt=\"Open In Colab\"/></a>"
      ]
    },
    {
      "cell_type": "code",
      "metadata": {
        "id": "fgFL3L5rpNwU",
        "colab_type": "code",
        "colab": {}
      },
      "source": [
        "import sys\n",
        "sys.path.append(\"/content/drive/My Drive/gazobunrui_lecture/my_modules\")"
      ],
      "execution_count": 1,
      "outputs": []
    },
    {
      "cell_type": "code",
      "metadata": {
        "id": "_uib6klfpUXa",
        "colab_type": "code",
        "colab": {
          "base_uri": "https://localhost:8080/",
          "height": 541
        },
        "outputId": "32fe8360-6bc7-4479-e457-15f32c4f720e"
      },
      "source": [
        "import ic_module as ic\n",
        "import os.path as op\n",
        "\n",
        "while True:\n",
        "    while True:\n",
        "        imgname = input(\"\\n>> 入力したい画像ファイル(「END」で終了) ： \")\n",
        "        if op.isfile(imgname) or imgname == \"END\":\n",
        "            break\n",
        "        print(\">> そのファイルは存在しません！\")\n",
        "    if imgname == \"END\":\n",
        "        break\n",
        "\n",
        "    # 関数実行\n",
        "    ic.TestProcess(imgname)"
      ],
      "execution_count": 2,
      "outputs": [
        {
          "output_type": "stream",
          "text": [
            "\n",
            ">> 入力したい画像ファイル(「END」で終了) ： /content/drive/My Drive/gazobunrui_lecture/face/test/image_0.jpg\n",
            ">> 計算結果↓\n",
            "[[0.25920656 0.10915811 0.6316353 ]]\n",
            ">> この画像は「TeruyukiKagawa」です。\n",
            "\n",
            ">> 入力したい画像ファイル(「END」で終了) ： /content/drive/My Drive/gazobunrui_lecture/face/test/image_7.jpg\n",
            ">> 計算結果↓\n",
            "[[0.29300314 0.15928407 0.54771274]]\n",
            ">> この画像は「TeruyukiKagawa」です。\n",
            "\n",
            ">> 入力したい画像ファイル(「END」で終了) ： /content/drive/My Drive/gazobunrui_lecture/face/test/image_16.jpg\n",
            ">> 計算結果↓\n",
            "[[0.2506973  0.11147201 0.6378307 ]]\n",
            ">> この画像は「TeruyukiKagawa」です。\n",
            "\n",
            ">> 入力したい画像ファイル(「END」で終了) ： /content/drive/My Drive/gazobunrui_lecture/face/test/image_21.jpg\n",
            ">> 計算結果↓\n",
            "[[0.25579685 0.11161089 0.6325922 ]]\n",
            ">> この画像は「TeruyukiKagawa」です。\n",
            "\n",
            ">> 入力したい画像ファイル(「END」で終了) ： /content/drive/My Drive/gazobunrui_lecture/face/test/image_12.jpg\n",
            "WARNING:tensorflow:5 out of the last 5 calls to <function Model.make_predict_function.<locals>.predict_function at 0x7f4367c6f510> triggered tf.function retracing. Tracing is expensive and the excessive number of tracings could be due to (1) creating @tf.function repeatedly in a loop, (2) passing tensors with different shapes, (3) passing Python objects instead of tensors. For (1), please define your @tf.function outside of the loop. For (2), @tf.function has experimental_relax_shapes=True option that relaxes argument shapes that can avoid unnecessary retracing. For (3), please refer to https://www.tensorflow.org/tutorials/customization/performance#python_or_tensor_args and https://www.tensorflow.org/api_docs/python/tf/function for  more details.\n",
            ">> 計算結果↓\n",
            "[[0.25857875 0.12083525 0.62058604]]\n",
            ">> この画像は「TeruyukiKagawa」です。\n",
            "\n",
            ">> 入力したい画像ファイル(「END」で終了) ： END\n"
          ],
          "name": "stdout"
        }
      ]
    },
    {
      "cell_type": "code",
      "metadata": {
        "id": "i4RtFiU1pmXq",
        "colab_type": "code",
        "colab": {}
      },
      "source": [
        ""
      ],
      "execution_count": null,
      "outputs": []
    }
  ]
}