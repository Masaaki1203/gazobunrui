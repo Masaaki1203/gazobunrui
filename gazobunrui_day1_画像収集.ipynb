{
  "nbformat": 4,
  "nbformat_minor": 0,
  "metadata": {
    "colab": {
      "name": "gazobunrui_day1_画像収集.ipynb",
      "provenance": [],
      "mount_file_id": "1xyK-RJ9WCj4cY0NJZ-Nlz78FsjIwf0WS",
      "authorship_tag": "ABX9TyOfWvDWrKrRU9aKcRJj73N3",
      "include_colab_link": true
    },
    "kernelspec": {
      "name": "python3",
      "display_name": "Python 3"
    }
  },
  "cells": [
    {
      "cell_type": "markdown",
      "metadata": {
        "id": "view-in-github",
        "colab_type": "text"
      },
      "source": [
        "<a href=\"https://colab.research.google.com/github/Masaaki1203/gazobunrui/blob/master/gazobunrui_day1_%E7%94%BB%E5%83%8F%E5%8F%8E%E9%9B%86.ipynb\" target=\"_parent\"><img src=\"https://colab.research.google.com/assets/colab-badge.svg\" alt=\"Open In Colab\"/></a>"
      ]
    },
    {
      "cell_type": "code",
      "metadata": {
        "id": "VEaKPM9eI8Mr",
        "colab_type": "code",
        "colab": {
          "base_uri": "https://localhost:8080/",
          "height": 271
        },
        "outputId": "de8a1eb7-ca79-41f2-d2e0-fefcc6c5d20f"
      },
      "source": [
        "# ライブラリのインストール\n",
        "!pip install icrawler"
      ],
      "execution_count": 1,
      "outputs": [
        {
          "output_type": "stream",
          "text": [
            "Collecting icrawler\n",
            "  Downloading https://files.pythonhosted.org/packages/89/de/71d154b1fe181ee1a4afae5d10451856ef4689b3fd72d93cc55f31d2886a/icrawler-0.6.3-py2.py3-none-any.whl\n",
            "Requirement already satisfied: lxml in /usr/local/lib/python3.6/dist-packages (from icrawler) (4.2.6)\n",
            "Requirement already satisfied: Pillow in /usr/local/lib/python3.6/dist-packages (from icrawler) (7.0.0)\n",
            "Requirement already satisfied: six>=1.10.0 in /usr/local/lib/python3.6/dist-packages (from icrawler) (1.15.0)\n",
            "Requirement already satisfied: requests>=2.9.1 in /usr/local/lib/python3.6/dist-packages (from icrawler) (2.23.0)\n",
            "Requirement already satisfied: beautifulsoup4>=4.4.1 in /usr/local/lib/python3.6/dist-packages (from icrawler) (4.6.3)\n",
            "Requirement already satisfied: chardet<4,>=3.0.2 in /usr/local/lib/python3.6/dist-packages (from requests>=2.9.1->icrawler) (3.0.4)\n",
            "Requirement already satisfied: idna<3,>=2.5 in /usr/local/lib/python3.6/dist-packages (from requests>=2.9.1->icrawler) (2.10)\n",
            "Requirement already satisfied: urllib3!=1.25.0,!=1.25.1,<1.26,>=1.21.1 in /usr/local/lib/python3.6/dist-packages (from requests>=2.9.1->icrawler) (1.24.3)\n",
            "Requirement already satisfied: certifi>=2017.4.17 in /usr/local/lib/python3.6/dist-packages (from requests>=2.9.1->icrawler) (2020.6.20)\n",
            "Installing collected packages: icrawler\n",
            "Successfully installed icrawler-0.6.3\n"
          ],
          "name": "stdout"
        }
      ]
    },
    {
      "cell_type": "code",
      "metadata": {
        "id": "Ig93uUH1XVuK",
        "colab_type": "code",
        "colab": {
          "base_uri": "https://localhost:8080/",
          "height": 53
        },
        "outputId": "45aec443-88bc-4635-c3be-f1292909484c"
      },
      "source": [
        "# 画像を保存するフォルダに移動\n",
        "# pathは適宜変える\n",
        "%cd drive/My Drive/gazobunrui_lecture/original_data\n",
        "!pwd"
      ],
      "execution_count": 2,
      "outputs": [
        {
          "output_type": "stream",
          "text": [
            "/content/drive/My Drive/gazobunrui_lecture/original_data\n",
            "/content/drive/My Drive/gazobunrui_lecture/original_data\n"
          ],
          "name": "stdout"
        }
      ]
    },
    {
      "cell_type": "code",
      "metadata": {
        "id": "wTCK1Oi1Xo-Q",
        "colab_type": "code",
        "colab": {}
      },
      "source": [
        "# こんな感じで書く．枚数は、max_numで指定する．\n",
        "# from icrawler.builtin import BingImageCrawler\n",
        "# crawler = BingImageCrawler(storage={\"root_dir\": \"ここと\"})\n",
        "# crawler.crawl(keyword=\"ここを変えるt\", max_num=20)\n",
        "\n",
        "from icrawler.builtin import BingImageCrawler\n",
        "crawler = BingImageCrawler(storage={\"root_dir\": \"AinosukeKataoka\"})\n",
        "crawler.crawl(keyword=\"片岡愛之助\", max_num=20)\n",
        "\n",
        "from icrawler.builtin import BingImageCrawler\n",
        "crawler = BingImageCrawler(storage={\"root_dir\": \"EnnosukeIchikawa\"})\n",
        "crawler.crawl(keyword=\"市川猿之助\", max_num=20)\n",
        "\n",
        "from icrawler.builtin import BingImageCrawler\n",
        "crawler = BingImageCrawler(storage={\"root_dir\": \"TeruyukiKagawa\"})\n",
        "crawler.crawl(keyword=\"香川照之\", max_num=20)"
      ],
      "execution_count": null,
      "outputs": []
    }
  ]
}