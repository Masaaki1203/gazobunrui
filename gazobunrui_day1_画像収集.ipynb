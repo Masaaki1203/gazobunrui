{
  "nbformat": 4,
  "nbformat_minor": 0,
  "metadata": {
    "colab": {
      "name": "gazobunrui_day1_画像収集.ipynb",
      "provenance": [],
      "mount_file_id": "1xyK-RJ9WCj4cY0NJZ-Nlz78FsjIwf0WS",
      "authorship_tag": "ABX9TyP9cC/6RceyvvABj3xrWoq/",
      "include_colab_link": true
    },
    "kernelspec": {
      "name": "python3",
      "display_name": "Python 3"
    }
  },
  "cells": [
    {
      "cell_type": "markdown",
      "metadata": {
        "id": "view-in-github",
        "colab_type": "text"
      },
      "source": [
        "<a href=\"https://colab.research.google.com/github/Masaaki1203/gazobunrui/blob/master/gazobunrui_day1_%E7%94%BB%E5%83%8F%E5%8F%8E%E9%9B%86.ipynb\" target=\"_parent\"><img src=\"https://colab.research.google.com/assets/colab-badge.svg\" alt=\"Open In Colab\"/></a>"
      ]
    },
    {
      "cell_type": "markdown",
      "metadata": {
        "id": "VW1CVpAiqExg",
        "colab_type": "text"
      },
      "source": [
        "**画像を自動で取得**"
      ]
    },
    {
      "cell_type": "code",
      "metadata": {
        "id": "VEaKPM9eI8Mr",
        "colab_type": "code",
        "colab": {
          "base_uri": "https://localhost:8080/",
          "height": 271
        },
        "outputId": "de8a1eb7-ca79-41f2-d2e0-fefcc6c5d20f"
      },
      "source": [
        "# ライブラリのインストール\n",
        "!pip install icrawler"
      ],
      "execution_count": 1,
      "outputs": [
        {
          "output_type": "stream",
          "text": [
            "Collecting icrawler\n",
            "  Downloading https://files.pythonhosted.org/packages/89/de/71d154b1fe181ee1a4afae5d10451856ef4689b3fd72d93cc55f31d2886a/icrawler-0.6.3-py2.py3-none-any.whl\n",
            "Requirement already satisfied: lxml in /usr/local/lib/python3.6/dist-packages (from icrawler) (4.2.6)\n",
            "Requirement already satisfied: Pillow in /usr/local/lib/python3.6/dist-packages (from icrawler) (7.0.0)\n",
            "Requirement already satisfied: six>=1.10.0 in /usr/local/lib/python3.6/dist-packages (from icrawler) (1.15.0)\n",
            "Requirement already satisfied: requests>=2.9.1 in /usr/local/lib/python3.6/dist-packages (from icrawler) (2.23.0)\n",
            "Requirement already satisfied: beautifulsoup4>=4.4.1 in /usr/local/lib/python3.6/dist-packages (from icrawler) (4.6.3)\n",
            "Requirement already satisfied: chardet<4,>=3.0.2 in /usr/local/lib/python3.6/dist-packages (from requests>=2.9.1->icrawler) (3.0.4)\n",
            "Requirement already satisfied: idna<3,>=2.5 in /usr/local/lib/python3.6/dist-packages (from requests>=2.9.1->icrawler) (2.10)\n",
            "Requirement already satisfied: urllib3!=1.25.0,!=1.25.1,<1.26,>=1.21.1 in /usr/local/lib/python3.6/dist-packages (from requests>=2.9.1->icrawler) (1.24.3)\n",
            "Requirement already satisfied: certifi>=2017.4.17 in /usr/local/lib/python3.6/dist-packages (from requests>=2.9.1->icrawler) (2020.6.20)\n",
            "Installing collected packages: icrawler\n",
            "Successfully installed icrawler-0.6.3\n"
          ],
          "name": "stdout"
        }
      ]
    },
    {
      "cell_type": "code",
      "metadata": {
        "id": "Ig93uUH1XVuK",
        "colab_type": "code",
        "colab": {
          "base_uri": "https://localhost:8080/",
          "height": 53
        },
        "outputId": "45aec443-88bc-4635-c3be-f1292909484c"
      },
      "source": [
        "# 画像を保存するフォルダに移動\n",
        "# pathは適宜変える\n",
        "%cd drive/My Drive/gazobunrui_lecture/original_data\n",
        "!pwd"
      ],
      "execution_count": 2,
      "outputs": [
        {
          "output_type": "stream",
          "text": [
            "/content/drive/My Drive/gazobunrui_lecture/original_data\n",
            "/content/drive/My Drive/gazobunrui_lecture/original_data\n"
          ],
          "name": "stdout"
        }
      ]
    },
    {
      "cell_type": "code",
      "metadata": {
        "id": "wTCK1Oi1Xo-Q",
        "colab_type": "code",
        "colab": {
          "base_uri": "https://localhost:8080/",
          "height": 1000
        },
        "outputId": "33be22ce-e292-4b44-924f-4c691ee71b26"
      },
      "source": [
        "# こんな感じで書く．枚数は、max_numで指定する．\n",
        "# from icrawler.builtin import BingImageCrawler\n",
        "# crawler = BingImageCrawler(storage={\"root_dir\": \"ここと\"})\n",
        "# crawler.crawl(keyword=\"ここを変えるt\", max_num=20)\n",
        "\n",
        "from icrawler.builtin import BingImageCrawler\n",
        "crawler = BingImageCrawler(storage={\"root_dir\": \"AinosukeKataoka\"})\n",
        "crawler.crawl(keyword=\"片岡愛之助\", max_num=20)\n",
        "\n",
        "from icrawler.builtin import BingImageCrawler\n",
        "crawler = BingImageCrawler(storage={\"root_dir\": \"EnnosukeIchikawa\"})\n",
        "crawler.crawl(keyword=\"市川猿之助\", max_num=20)\n",
        "\n",
        "from icrawler.builtin import BingImageCrawler\n",
        "crawler = BingImageCrawler(storage={\"root_dir\": \"TeruyukiKagawa\"})\n",
        "crawler.crawl(keyword=\"香川照之\", max_num=20)"
      ],
      "execution_count": 3,
      "outputs": [
        {
          "output_type": "stream",
          "text": [
            "2020-08-26 06:10:03,376 - INFO - icrawler.crawler - start crawling...\n",
            "2020-08-26 06:10:03,378 - INFO - icrawler.crawler - starting 1 feeder threads...\n",
            "2020-08-26 06:10:03,382 - INFO - feeder - thread feeder-001 exit\n",
            "2020-08-26 06:10:03,382 - INFO - icrawler.crawler - starting 1 parser threads...\n",
            "2020-08-26 06:10:03,392 - INFO - icrawler.crawler - starting 1 downloader threads...\n",
            "2020-08-26 06:10:03,727 - INFO - parser - parsing result page https://www.bing.com/images/async?q=片岡愛之助&first=0\n",
            "2020-08-26 06:10:03,886 - INFO - downloader - image #1\thttp://kenshin.hk/blog/jdnews/201609/20160929-6.jpg\n",
            "2020-08-26 06:10:03,932 - INFO - downloader - image #2\thttps://i1.kknews.cc/SIG=341ltki/4q9000p6094q40sq800.jpg\n",
            "2020-08-26 06:10:04,014 - INFO - downloader - image #3\thttp://img.chinatimes.com/newsphoto/2016-03-31/656/20160331004021.jpg\n",
            "2020-08-26 06:10:04,069 - INFO - downloader - image #4\thttps://img.chinatimes.com/newsphoto/2016-11-24/656/20161124003697.jpg\n",
            "2020-08-26 06:10:04,489 - INFO - downloader - image #5\thttps://i1.kknews.cc/SIG=16087d0/r20000r7qq3129p7322.jpg\n",
            "2020-08-26 06:10:04,654 - INFO - downloader - image #6\thttp://photocdn.sohu.com/20160922/Img468930909.jpg\n",
            "2020-08-26 06:10:04,740 - INFO - downloader - image #7\thttps://media.bastillepost.com/wp-content/uploads/hongkong/2017/12/20171221_EN_JP_couple03.jpg\n",
            "2020-08-26 06:10:04,842 - INFO - downloader - image #8\thttp://img.chinatimes.com/newsphoto/2016-09-29/656/20160929003257.jpg\n",
            "2020-08-26 06:10:04,947 - INFO - downloader - image #9\thttp://kenshin.hk/blog/jdnews/201610/20161006-11.jpg\n",
            "2020-08-26 06:10:05,043 - INFO - downloader - image #10\thttp://kenshin.hk/blog/jdnews/201509/20150925-8.jpg\n",
            "2020-08-26 06:10:05,074 - INFO - downloader - image #11\thttps://img.chinatimes.com/newsphoto/2017-12-15/656/20171215001690.jpg\n",
            "2020-08-26 06:10:05,449 - INFO - downloader - image #12\thttps://zh.cn.nikkei.com/images/2019/12/1216/ainosuke-M.jpg\n",
            "2020-08-26 06:10:05,559 - INFO - downloader - image #13\thttp://kenshin.hk/blog/jdnews/201604/20160414-1.jpg\n",
            "2020-08-26 06:10:05,668 - INFO - downloader - image #14\thttps://66.media.tumblr.com/0240570981eeb4c5a1169419d6a54703/tumblr_inline_o4ucoetoW91tus890_500.jpg\n",
            "2020-08-26 06:10:05,799 - INFO - downloader - image #15\thttps://kenshin.hk/blog/jdnews/202004/20200417-3.jpg\n",
            "2020-08-26 06:10:06,006 - INFO - downloader - image #16\thttps://hk.on.cc/hk/bkn/cnt/entertainment/20160520/photo/bkn-20160520105857094-0520_00862_001_01p.jpg\n",
            "2020-08-26 06:10:06,128 - INFO - downloader - image #17\thttp://hk.on.cc/hk/bkn/cnt/entertainment/20151008/photo/bkn-20151008103655434-1008_00862_001_01p.jpg\n",
            "2020-08-26 06:10:06,165 - INFO - downloader - image #18\thttps://s.yimg.com/ny/api/res/1.2/iLbC3nYK7QL1uNZkyg.HNQ--~A/YXBwaWQ9aGlnaGxhbmRlcjtzbT0xO3c9NjAwO2g9NTcxO2lsPXBsYW5l/http://media.zenfs.com/zh-Hant_TW/News/YahooOmg/20150828170103_sakutmc_625135.jpg\n",
            "2020-08-26 06:10:06,237 - INFO - downloader - image #19\thttps://cdn2.ettoday.net/images/1698/d1698524.jpg\n",
            "2020-08-26 06:10:06,317 - INFO - downloader - image #20\thttps://i.epochtimes.com/assets/uploads/2016/03/1603301145301750-600x400.jpg\n",
            "2020-08-26 06:10:06,962 - INFO - downloader - downloaded images reach max num, thread downloader-001 is ready to exit\n",
            "2020-08-26 06:10:06,963 - INFO - downloader - thread downloader-001 exit\n",
            "2020-08-26 06:10:07,399 - INFO - icrawler.crawler - Crawling task done!\n",
            "2020-08-26 06:10:07,401 - INFO - icrawler.crawler - start crawling...\n",
            "2020-08-26 06:10:07,402 - INFO - icrawler.crawler - starting 1 feeder threads...\n",
            "2020-08-26 06:10:07,403 - INFO - feeder - thread feeder-001 exit\n",
            "2020-08-26 06:10:07,406 - INFO - icrawler.crawler - starting 1 parser threads...\n",
            "2020-08-26 06:10:07,409 - INFO - icrawler.crawler - starting 1 downloader threads...\n",
            "2020-08-26 06:10:07,715 - INFO - parser - parsing result page https://www.bing.com/images/async?q=市川猿之助&first=0\n",
            "2020-08-26 06:10:08,134 - INFO - downloader - image #1\thttp://www.twwiki.com/uploads/wiki/79/09/670827_0.jpg\n",
            "2020-08-26 06:10:08,326 - INFO - parser - downloaded image reached max num, thread parser-001 is ready to exit\n",
            "2020-08-26 06:10:08,327 - INFO - parser - thread parser-001 exit\n",
            "2020-08-26 06:10:09,387 - INFO - downloader - image #2\thttp://i0.hdslb.com/bfs/archive/7cb7e43f2c0032ea350634b734924d55e638f19b.jpg\n",
            "2020-08-26 06:10:09,551 - INFO - downloader - image #3\thttps://img3.doubanio.com/img/celebrity/large/41124.jpg\n",
            "2020-08-26 06:10:10,231 - INFO - downloader - image #4\thttps://p1.ssl.qhmsg.com/dr/270_500_/t0126aa3fc705f4481f.jpg\n",
            "2020-08-26 06:10:10,810 - INFO - downloader - image #5\thttps://image11.m1905.cn/uploadfile/2012/0901/20120901022659913.jpg\n",
            "2020-08-26 06:10:11,531 - INFO - downloader - image #6\thttps://i.epochtimes.com/assets/uploads/2017/10/1710092135161487-600x400.jpg\n",
            "2020-08-26 06:10:11,608 - INFO - downloader - image #7\thttp://i1.hdslb.com/bfs/archive/d023da18743a6b27d61ebc7dbcad06ed3dbb7b8d.jpg\n",
            "2020-08-26 06:10:11,988 - INFO - downloader - image #8\thttps://i1.kknews.cc/SIG=3eg4fej/61640004q60q22qr5q1q.jpg\n",
            "2020-08-26 06:10:12,100 - INFO - downloader - image #9\thttps://images.chinatimes.com/newsphoto/2020-07-25/900/BE0100_P_02_05.jpg\n",
            "2020-08-26 06:10:12,766 - INFO - downloader - image #10\thttps://blog-imgs-57-origin.fc2.com/j/a/p/japanyouqu/kagawat08.jpg\n",
            "2020-08-26 06:10:12,793 - INFO - downloader - image #11\thttp://i0.hdslb.com/bfs/archive/666a8a428e25edcb7ca3db78e0af72692ac61571.jpg\n",
            "2020-08-26 06:10:13,101 - INFO - downloader - image #12\thttps://wx1.sinaimg.cn/large/005zWjpngy1fpygfi14rcj30c10i2dgq.jpg\n",
            "2020-08-26 06:10:13,418 - INFO - downloader - image #13\thttps://i2.hdslb.com/bfs/archive/c58415711e6b91abdac8ed8c83bf4d6f1f070907.jpg\n",
            "2020-08-26 06:10:13,727 - INFO - downloader - image #14\thttp://pic.baike.soso.com/p/20130703/20130703091432-611228468.jpg\n",
            "2020-08-26 06:10:14,387 - INFO - downloader - image #15\thttps://i.epochtimes.com/assets/uploads/2017/10/1710090815161487-600x400.jpg\n",
            "2020-08-26 06:10:15,663 - INFO - downloader - image #16\thttp://ww1.sinaimg.cn/large/61e74233ly1ftzoa9qe2jj20hs0cg0ui.jpg\n",
            "2020-08-26 06:10:15,991 - INFO - downloader - image #17\thttp://i2.hdslb.com/bfs/archive/619ccabe4ba03e77144e24f90d76b852c225c1a7.jpg\n",
            "2020-08-26 06:10:16,047 - INFO - downloader - image #18\thttp://i2.hdslb.com/bfs/archive/69ec4e75081a41a0cd96bb4752af30cb77fad166.jpg\n",
            "2020-08-26 06:10:16,148 - INFO - downloader - image #19\thttps://wx1.sinaimg.cn/large/005zWjpngy1fpygfixe52j30dw0fx3zt.jpg\n",
            "2020-08-26 06:10:17,042 - INFO - downloader - image #20\thttps://imgsa.baidu.com/baike/pic/item/b3fb43166d224f4a8b1ac7af04f790529922d18f.jpg\n",
            "2020-08-26 06:10:17,160 - INFO - downloader - downloaded images reach max num, thread downloader-001 is ready to exit\n",
            "2020-08-26 06:10:17,160 - INFO - downloader - thread downloader-001 exit\n",
            "2020-08-26 06:10:17,424 - INFO - icrawler.crawler - Crawling task done!\n",
            "2020-08-26 06:10:17,426 - INFO - icrawler.crawler - start crawling...\n",
            "2020-08-26 06:10:17,428 - INFO - icrawler.crawler - starting 1 feeder threads...\n",
            "2020-08-26 06:10:17,434 - INFO - feeder - thread feeder-001 exit\n",
            "2020-08-26 06:10:17,434 - INFO - icrawler.crawler - starting 1 parser threads...\n",
            "2020-08-26 06:10:17,441 - INFO - icrawler.crawler - starting 1 downloader threads...\n",
            "2020-08-26 06:10:17,917 - INFO - parser - parsing result page https://www.bing.com/images/async?q=香川照之&first=0\n",
            "2020-08-26 06:10:18,050 - INFO - parser - downloaded image reached max num, thread parser-001 is ready to exit\n",
            "2020-08-26 06:10:18,051 - INFO - parser - thread parser-001 exit\n",
            "2020-08-26 06:10:18,343 - INFO - downloader - image #1\thttp://pic.baike.soso.com/p/20130703/20130703091432-611228468.jpg\n",
            "2020-08-26 06:10:19,170 - INFO - downloader - image #2\thttp://a3.att.hudong.com/42/32/01300000329092123864325487811.jpg\n",
            "2020-08-26 06:10:19,369 - INFO - downloader - image #3\thttp://image11.m1905.cn/mdb/uploadfile/2017/0531/thumb_1_168_230_20170531112318627709.jpg\n",
            "2020-08-26 06:10:19,976 - INFO - downloader - image #4\thttp://pic.baike.soso.com/p/20131209/20131209170549-461481178.jpg\n",
            "2020-08-26 06:10:20,194 - ERROR - downloader - Response status code 403, file https://gss3.bdstatic.com/-Po3dSag_xI4khGkpoWK1HF6hhy/baike/s%3D220/sign=ca8adb608713632711edc531a18ea056/c8ea15ce36d3d5396d55487f3787e950352ab026.jpg\n",
            "2020-08-26 06:10:20,394 - INFO - downloader - image #5\thttp://image11.m1905.cn/uploadfile/2012/0529/thumb_1_192_262_20120529091243875.jpg\n",
            "2020-08-26 06:10:21,672 - INFO - downloader - image #6\thttp://pic.baike.soso.com/p/20131209/20131209170224-40520354.jpg\n",
            "2020-08-26 06:10:22,309 - INFO - downloader - image #7\thttps://p1.ssl.qhmsg.com/dr/270_500_/t01a6caebed23351aa6.jpg\n",
            "2020-08-26 06:10:23,139 - ERROR - downloader - Response status code 400, file https://pic.baike.soso.com/pqpic/baikepic/23119/cut-20131209170325-1688275487.jpg\n",
            "2020-08-26 06:10:24,068 - INFO - downloader - image #8\thttp://img3.cache.netease.com/ent/2010/11/16/20101116080621fedd7.jpg\n",
            "2020-08-26 06:10:25,381 - INFO - downloader - image #9\thttp://newimg.mingxing.com/upload/thumb/98/291385.jpg\n",
            "2020-08-26 06:10:25,666 - ERROR - downloader - Response status code 403, file https://gss2.bdstatic.com/9fo3dSag_xI4khGkpoWK1HF6hhy/baike/w%3D400/sign=3fcc1cfb71899e51788e3b1472a7d990/f9198618367adab440dbd44581d4b31c8701e4a9.jpg\n",
            "2020-08-26 06:10:26,457 - INFO - downloader - image #10\thttps://pic.baike.soso.com/p/20131209/20131209170247-845649800.jpg\n",
            "2020-08-26 06:10:26,696 - INFO - downloader - image #11\thttp://n.sinaimg.cn/ent/transform/20161214/Ahwm-fxypunk6595814.jpg\n",
            "2020-08-26 06:10:26,869 - ERROR - downloader - Response status code 400, file https://pic.baike.soso.com/ugc/baikepic2/0/ori-20131218152831-36309497.jpg\n",
            "2020-08-26 06:10:27,002 - INFO - downloader - image #12\thttp://img31.mtime.cn/ph/2014/03/14/154356.48498094_290X440X4.jpg\n",
            "2020-08-26 06:10:27,076 - INFO - downloader - image #13\thttp://n.sinaimg.cn/ent/crawl/20170707/on36-fyhwres7982557.jpg\n",
            "2020-08-26 06:10:27,280 - ERROR - downloader - Response status code 400, file https://pic.baike.soso.com/pqpic/baikepic/28028/cut-20131209170311-1402617172.jpg\n",
            "2020-08-26 06:10:30,221 - INFO - downloader - image #14\thttp://imgsrc.baidu.com/forum/wh%3D200%2C90%3B/sign=d96e762272cf3bc7e855c5eee1309698/7f6254e736d12f2e075f244f4dc2d562843568d1.jpg\n",
            "2020-08-26 06:10:30,772 - INFO - downloader - image #15\thttps://img.tvzn.com/yanyuanpicsmall/48510.jpg\n",
            "2020-08-26 06:10:35,991 - ERROR - downloader - Exception caught when downloading file http://www.officiallyjd.com/wp-content/uploads/2014/02/20140226_hanzawa_131.jpg, error: HTTPConnectionPool(host='www.officiallyjd.com', port=80): Max retries exceeded with url: /wp-content/uploads/2014/02/20140226_hanzawa_131.jpg (Caused by ConnectTimeoutError(<urllib3.connection.HTTPConnection object at 0x7f08edabddd8>, 'Connection to www.officiallyjd.com timed out. (connect timeout=5)')), remaining retry times: 2\n",
            "2020-08-26 06:10:38,785 - INFO - parser - no more page urls for thread parser-001 to parse\n",
            "2020-08-26 06:10:38,786 - INFO - parser - thread parser-001 exit\n",
            "2020-08-26 06:10:41,105 - ERROR - downloader - Exception caught when downloading file http://www.officiallyjd.com/wp-content/uploads/2014/02/20140226_hanzawa_131.jpg, error: HTTPConnectionPool(host='www.officiallyjd.com', port=80): Max retries exceeded with url: /wp-content/uploads/2014/02/20140226_hanzawa_131.jpg (Caused by ConnectTimeoutError(<urllib3.connection.HTTPConnection object at 0x7f08edabdc18>, 'Connection to www.officiallyjd.com timed out. (connect timeout=5)')), remaining retry times: 1\n",
            "2020-08-26 06:10:46,315 - ERROR - downloader - Exception caught when downloading file http://www.officiallyjd.com/wp-content/uploads/2014/02/20140226_hanzawa_131.jpg, error: HTTPConnectionPool(host='www.officiallyjd.com', port=80): Max retries exceeded with url: /wp-content/uploads/2014/02/20140226_hanzawa_131.jpg (Caused by ConnectTimeoutError(<urllib3.connection.HTTPConnection object at 0x7f08ed1f48d0>, 'Connection to www.officiallyjd.com timed out. (connect timeout=5)')), remaining retry times: 0\n",
            "2020-08-26 06:10:46,747 - INFO - downloader - image #16\thttp://attach.hunantv.com/uploads/images/cms_img/201208/23/84/13712601948902272436.jpg\n",
            "2020-08-26 06:10:49,542 - INFO - downloader - image #17\thttp://i0.sinaimg.cn/ent/m/c/2009-03-31/U2519P28T3D2447691F329DT20090331025637.jpg\n",
            "2020-08-26 06:10:51,345 - INFO - downloader - image #18\thttp://a0.att.hudong.com/86/59/01100000000000144740596722753_s.jpg\n",
            "2020-08-26 06:10:51,456 - INFO - downloader - image #19\thttp://photocdn.sohu.com/20141126/Img406399343.jpg\n",
            "2020-08-26 06:10:51,505 - INFO - downloader - image #20\thttp://photocdn.sohu.com/20100306/Img270626461.jpg\n",
            "2020-08-26 06:10:56,510 - INFO - downloader - no more download task for thread downloader-001\n",
            "2020-08-26 06:10:56,511 - INFO - downloader - thread downloader-001 exit\n",
            "2020-08-26 06:10:57,487 - INFO - icrawler.crawler - Crawling task done!\n"
          ],
          "name": "stderr"
        }
      ]
    },
    {
      "cell_type": "code",
      "metadata": {
        "id": "WIdbJ1gQjdhq",
        "colab_type": "code",
        "colab": {}
      },
      "source": [
        ""
      ],
      "execution_count": null,
      "outputs": []
    }
  ]
}